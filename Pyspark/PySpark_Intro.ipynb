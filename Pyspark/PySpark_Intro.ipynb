{
 "cells": [
  {
   "cell_type": "markdown",
   "metadata": {},
   "source": [
    "# Install"
   ]
  },
  {
   "cell_type": "markdown",
   "metadata": {},
   "source": [
    "1. First thing is to create an environment (for this example i created condaenv), there I installed pyspark\n",
    "2. PySparks needs Java to be installed \n",
    "\n",
    "    brew install java\n",
    "    \n",
    "    sudo ln -sfn /opt/homebrew/opt/openjdk/libexec/openjdk.jdk /Library/Java/JavaVirtualMachines/openjdk.jdk) \n",
    "\n",
    "Why pyspark uses java gateway?https://medium.com/@dpk.bhtt/java-gateway-exited-java-gateway-process-exited-before-sending-its-port-number-eae90ccb990f\n",
    "\n",
    "    "
   ]
  },
  {
   "cell_type": "code",
   "execution_count": 1,
   "metadata": {},
   "outputs": [
    {
     "name": "stdout",
     "output_type": "stream",
     "text": [
      "Collecting pyspark\n",
      "  Downloading pyspark-3.5.2.tar.gz (317.3 MB)\n",
      "\u001b[2K     \u001b[90m━━━━━━━━━━━━━━━━━━━━━━━━━━━━━━━━━━━━━━━\u001b[0m \u001b[32m317.3/317.3 MB\u001b[0m \u001b[31m8.1 MB/s\u001b[0m eta \u001b[36m0:00:00\u001b[0m00:01\u001b[0m00:01\u001b[0m\n",
      "\u001b[?25h  Preparing metadata (setup.py) ... \u001b[?25ldone\n",
      "\u001b[?25hCollecting py4j==0.10.9.7 (from pyspark)\n",
      "  Downloading py4j-0.10.9.7-py2.py3-none-any.whl.metadata (1.5 kB)\n",
      "Downloading py4j-0.10.9.7-py2.py3-none-any.whl (200 kB)\n",
      "Building wheels for collected packages: pyspark\n",
      "  Building wheel for pyspark (setup.py) ... \u001b[?25ldone\n",
      "\u001b[?25h  Created wheel for pyspark: filename=pyspark-3.5.2-py2.py3-none-any.whl size=317812365 sha256=567a719b410b3c75f2dcff44391f35ffa58074c266f55245693679066b39c74b\n",
      "  Stored in directory: /Users/aleidali/Library/Caches/pip/wheels/9d/29/ee/3a756632ca3f0a6870933bac1c9db6e4af2c068f019aba0ee1\n",
      "Successfully built pyspark\n",
      "Installing collected packages: py4j, pyspark\n",
      "Successfully installed py4j-0.10.9.7 pyspark-3.5.2\n"
     ]
    }
   ],
   "source": [
    "! pip install pyspark"
   ]
  },
  {
   "cell_type": "code",
   "execution_count": 3,
   "metadata": {},
   "outputs": [],
   "source": [
    "import pyspark"
   ]
  },
  {
   "cell_type": "code",
   "execution_count": 34,
   "metadata": {},
   "outputs": [
    {
     "data": {
      "text/plain": [
       "pandas.core.frame.DataFrame"
      ]
     },
     "execution_count": 34,
     "metadata": {},
     "output_type": "execute_result"
    }
   ],
   "source": [
    "#Traditional way to read dataframes with pandas\n",
    "import pandas as pd\n",
    "type(pd.read_csv(\"Book1.csv\"))"
   ]
  },
  {
   "cell_type": "markdown",
   "metadata": {},
   "source": [
    "# Build session and read a csv"
   ]
  },
  {
   "cell_type": "code",
   "execution_count": 1,
   "metadata": {},
   "outputs": [],
   "source": [
    "from pyspark.sql import SparkSession"
   ]
  },
  {
   "cell_type": "code",
   "execution_count": 2,
   "metadata": {},
   "outputs": [
    {
     "name": "stderr",
     "output_type": "stream",
     "text": [
      "Setting default log level to \"WARN\".\n",
      "To adjust logging level use sc.setLogLevel(newLevel). For SparkR, use setLogLevel(newLevel).\n",
      "24/09/10 17:42:20 WARN NativeCodeLoader: Unable to load native-hadoop library for your platform... using builtin-java classes where applicable\n"
     ]
    }
   ],
   "source": [
    "spark=SparkSession.builder.appName('Practice').getOrCreate()"
   ]
  },
  {
   "cell_type": "code",
   "execution_count": 35,
   "metadata": {},
   "outputs": [
    {
     "data": {
      "text/plain": [
       "DataFrame[_c0: string, _c1: string]"
      ]
     },
     "execution_count": 35,
     "metadata": {},
     "output_type": "execute_result"
    }
   ],
   "source": [
    "df_pyspark=spark.read.csv(\"Book1.csv\")\n",
    "df_pyspark"
   ]
  },
  {
   "cell_type": "code",
   "execution_count": 36,
   "metadata": {},
   "outputs": [
    {
     "data": {
      "text/plain": [
       "pyspark.sql.dataframe.DataFrame"
      ]
     },
     "execution_count": 36,
     "metadata": {},
     "output_type": "execute_result"
    }
   ],
   "source": [
    "type(df_pyspark)"
   ]
  },
  {
   "cell_type": "code",
   "execution_count": 4,
   "metadata": {},
   "outputs": [
    {
     "name": "stdout",
     "output_type": "stream",
     "text": [
      "+--------+---+\n",
      "|     _c0|_c1|\n",
      "+--------+---+\n",
      "|    Name|Age|\n",
      "|ALEIDALI| 31|\n",
      "|    JUAN| 29|\n",
      "|    JOSE| 10|\n",
      "+--------+---+\n",
      "\n"
     ]
    },
    {
     "name": "stderr",
     "output_type": "stream",
     "text": [
      "24/09/10 17:42:36 WARN GarbageCollectionMetrics: To enable non-built-in garbage collector(s) List(G1 Concurrent GC), users should configure it(them) to spark.eventLog.gcMetrics.youngGenerationGarbageCollectors or spark.eventLog.gcMetrics.oldGenerationGarbageCollectors\n"
     ]
    }
   ],
   "source": [
    "df_pyspark.show()"
   ]
  },
  {
   "cell_type": "markdown",
   "metadata": {},
   "source": [
    "# Some pyspark dataframe fuctions\n",
    "\n",
    "- Read options, set headers and column types\n",
    "- Get columns names\n",
    "- Show all the elements of a selected column\n",
    "- dtypes and describe methods\n",
    "- rename a column\n",
    "- add a new column\n",
    "- drop a column\n"
   ]
  },
  {
   "cell_type": "code",
   "execution_count": 5,
   "metadata": {},
   "outputs": [
    {
     "name": "stdout",
     "output_type": "stream",
     "text": [
      "+--------+---+\n",
      "|    Name|Age|\n",
      "+--------+---+\n",
      "|ALEIDALI| 31|\n",
      "|    JUAN| 29|\n",
      "|    JOSE| 10|\n",
      "+--------+---+\n",
      "\n"
     ]
    }
   ],
   "source": [
    "# to set first row as headers\n",
    "df_pyspark= spark.read.option('header','true').csv(\"Book1.csv\")\n",
    "df_pyspark.show()"
   ]
  },
  {
   "cell_type": "code",
   "execution_count": 6,
   "metadata": {},
   "outputs": [
    {
     "data": {
      "text/plain": [
       "pyspark.sql.dataframe.DataFrame"
      ]
     },
     "execution_count": 6,
     "metadata": {},
     "output_type": "execute_result"
    }
   ],
   "source": [
    "type(df_pyspark)"
   ]
  },
  {
   "cell_type": "code",
   "execution_count": 8,
   "metadata": {},
   "outputs": [
    {
     "name": "stdout",
     "output_type": "stream",
     "text": [
      "root\n",
      " |-- Name: string (nullable = true)\n",
      " |-- Age: string (nullable = true)\n",
      "\n"
     ]
    }
   ],
   "source": [
    "df_pyspark.printSchema() # If we do not specify the columns type , all columns will be considered as strings"
   ]
  },
  {
   "cell_type": "code",
   "execution_count": 9,
   "metadata": {},
   "outputs": [
    {
     "name": "stdout",
     "output_type": "stream",
     "text": [
      "root\n",
      " |-- Name: string (nullable = true)\n",
      " |-- Age: integer (nullable = true)\n",
      "\n"
     ]
    }
   ],
   "source": [
    "# We can use InferSchema to modify column types\n",
    "df_pyspark= spark.read.option('header','true').csv(\"Book1.csv\",inferSchema=True)\n",
    "df_pyspark.printSchema()"
   ]
  },
  {
   "cell_type": "code",
   "execution_count": 11,
   "metadata": {},
   "outputs": [
    {
     "name": "stdout",
     "output_type": "stream",
     "text": [
      "root\n",
      " |-- Name: string (nullable = true)\n",
      " |-- Age: integer (nullable = true)\n",
      "\n"
     ]
    }
   ],
   "source": [
    "# easier way\n",
    "df_pyspark=spark.read.csv(\"Book1.csv\", header=True, inferSchema=True)\n",
    "df_pyspark.printSchema()"
   ]
  },
  {
   "cell_type": "code",
   "execution_count": 7,
   "metadata": {},
   "outputs": [
    {
     "data": {
      "text/plain": [
       "[Row(Name='ALEIDALI', Age='31')]"
      ]
     },
     "execution_count": 7,
     "metadata": {},
     "output_type": "execute_result"
    }
   ],
   "source": [
    "#to see first record\n",
    "df_pyspark.head(1)"
   ]
  },
  {
   "cell_type": "code",
   "execution_count": 13,
   "metadata": {},
   "outputs": [
    {
     "data": {
      "text/plain": [
       "['Name', 'Age']"
      ]
     },
     "execution_count": 13,
     "metadata": {},
     "output_type": "execute_result"
    }
   ],
   "source": [
    "# get columns names\n",
    "df_pyspark.columns"
   ]
  },
  {
   "cell_type": "code",
   "execution_count": 15,
   "metadata": {},
   "outputs": [
    {
     "data": {
      "text/plain": [
       "DataFrame[Name: string]"
      ]
     },
     "execution_count": 15,
     "metadata": {},
     "output_type": "execute_result"
    }
   ],
   "source": [
    "# pick a column as see all its elements \n",
    "df_pyspark.select(\"Name\")"
   ]
  },
  {
   "cell_type": "code",
   "execution_count": 17,
   "metadata": {},
   "outputs": [
    {
     "name": "stdout",
     "output_type": "stream",
     "text": [
      "+--------+\n",
      "|    Name|\n",
      "+--------+\n",
      "|ALEIDALI|\n",
      "|    JUAN|\n",
      "|    JOSE|\n",
      "+--------+\n",
      "\n"
     ]
    }
   ],
   "source": [
    "df_pyspark.select(\"Name\").show()"
   ]
  },
  {
   "cell_type": "code",
   "execution_count": 20,
   "metadata": {},
   "outputs": [
    {
     "name": "stdout",
     "output_type": "stream",
     "text": [
      "+---+--------+\n",
      "|Age|    Name|\n",
      "+---+--------+\n",
      "| 31|ALEIDALI|\n",
      "| 29|    JUAN|\n",
      "| 10|    JOSE|\n",
      "+---+--------+\n",
      "\n"
     ]
    }
   ],
   "source": [
    "df_pyspark.select(['Age','Name']).show()"
   ]
  },
  {
   "cell_type": "code",
   "execution_count": 23,
   "metadata": {},
   "outputs": [
    {
     "data": {
      "text/plain": [
       "[('Name', 'string'), ('Age', 'int')]"
      ]
     },
     "execution_count": 23,
     "metadata": {},
     "output_type": "execute_result"
    }
   ],
   "source": [
    "df_pyspark.dtypes"
   ]
  },
  {
   "cell_type": "code",
   "execution_count": 25,
   "metadata": {},
   "outputs": [
    {
     "name": "stdout",
     "output_type": "stream",
     "text": [
      "+-------+--------+------------------+\n",
      "|summary|    Name|               Age|\n",
      "+-------+--------+------------------+\n",
      "|  count|       3|                 3|\n",
      "|   mean|    NULL|23.333333333333332|\n",
      "| stddev|    NULL|11.590225767142472|\n",
      "|    min|ALEIDALI|                10|\n",
      "|    max|    JUAN|                31|\n",
      "+-------+--------+------------------+\n",
      "\n"
     ]
    }
   ],
   "source": [
    "df_pyspark.describe().show() # min and max is accordingly to the index in case they are strings"
   ]
  },
  {
   "cell_type": "code",
   "execution_count": 29,
   "metadata": {},
   "outputs": [
    {
     "name": "stdout",
     "output_type": "stream",
     "text": [
      "+--------+---+-----------------+\n",
      "|    Name|Age|Age after 2 years|\n",
      "+--------+---+-----------------+\n",
      "|ALEIDALI| 31|               33|\n",
      "|    JUAN| 29|               31|\n",
      "|    JOSE| 10|               12|\n",
      "+--------+---+-----------------+\n",
      "\n"
     ]
    }
   ],
   "source": [
    "# Adding columns, need to store in a variable to see the results\n",
    "df_pyspark.withColumn('Age after 2 years', df_pyspark['Age']+2).show()"
   ]
  },
  {
   "cell_type": "code",
   "execution_count": 28,
   "metadata": {},
   "outputs": [
    {
     "name": "stdout",
     "output_type": "stream",
     "text": [
      "+--------+---+\n",
      "|    Name|Age|\n",
      "+--------+---+\n",
      "|ALEIDALI| 31|\n",
      "|    JUAN| 29|\n",
      "|    JOSE| 10|\n",
      "+--------+---+\n",
      "\n"
     ]
    }
   ],
   "source": [
    "df_pyspark.show()"
   ]
  },
  {
   "cell_type": "code",
   "execution_count": 30,
   "metadata": {},
   "outputs": [
    {
     "name": "stdout",
     "output_type": "stream",
     "text": [
      "+--------+---+-----------------+\n",
      "|    Name|Age|Age after 2 years|\n",
      "+--------+---+-----------------+\n",
      "|ALEIDALI| 31|               33|\n",
      "|    JUAN| 29|               31|\n",
      "|    JOSE| 10|               12|\n",
      "+--------+---+-----------------+\n",
      "\n"
     ]
    }
   ],
   "source": [
    "df_pyspark=df_pyspark.withColumn('Age after 2 years', df_pyspark['Age']+2)\n",
    "df_pyspark.show()"
   ]
  },
  {
   "cell_type": "code",
   "execution_count": 31,
   "metadata": {},
   "outputs": [
    {
     "name": "stdout",
     "output_type": "stream",
     "text": [
      "+--------+---+\n",
      "|    Name|Age|\n",
      "+--------+---+\n",
      "|ALEIDALI| 31|\n",
      "|    JUAN| 29|\n",
      "|    JOSE| 10|\n",
      "+--------+---+\n",
      "\n"
     ]
    }
   ],
   "source": [
    "#drop a column\n",
    "df_pyspark.drop('Age after 2 years').show()"
   ]
  },
  {
   "cell_type": "code",
   "execution_count": 32,
   "metadata": {},
   "outputs": [
    {
     "name": "stdout",
     "output_type": "stream",
     "text": [
      "+--------+---+\n",
      "|    Name|Age|\n",
      "+--------+---+\n",
      "|ALEIDALI| 31|\n",
      "|    JUAN| 29|\n",
      "|    JOSE| 10|\n",
      "+--------+---+\n",
      "\n"
     ]
    }
   ],
   "source": [
    "df_pyspark=df_pyspark.drop('Age after 2 years')\n",
    "df_pyspark.show()"
   ]
  },
  {
   "cell_type": "code",
   "execution_count": 33,
   "metadata": {},
   "outputs": [
    {
     "name": "stdout",
     "output_type": "stream",
     "text": [
      "+--------+---+\n",
      "|New Name|Age|\n",
      "+--------+---+\n",
      "|ALEIDALI| 31|\n",
      "|    JUAN| 29|\n",
      "|    JOSE| 10|\n",
      "+--------+---+\n",
      "\n"
     ]
    }
   ],
   "source": [
    "#Rename a column\n",
    "df_pyspark.withColumnRenamed('Name','New Name').show()"
   ]
  },
  {
   "cell_type": "markdown",
   "metadata": {},
   "source": [
    "# Handle Missing values"
   ]
  },
  {
   "cell_type": "code",
   "execution_count": 38,
   "metadata": {},
   "outputs": [
    {
     "name": "stdout",
     "output_type": "stream",
     "text": [
      "+--------+----+\n",
      "|    Name| Age|\n",
      "+--------+----+\n",
      "|ALEIDALI|  31|\n",
      "|    JUAN|  29|\n",
      "|    JOSE|  10|\n",
      "|  MONICA|NULL|\n",
      "+--------+----+\n",
      "\n"
     ]
    }
   ],
   "source": [
    "from pyspark.sql import SparkSession\n",
    "spark=SparkSession.builder.appName('Practice').getOrCreate()\n",
    "df_pyspark= spark.read.csv(\"Book1.csv\",header=True,inferSchema=True)\n",
    "df_pyspark.show()\n"
   ]
  },
  {
   "cell_type": "code",
   "execution_count": 43,
   "metadata": {},
   "outputs": [
    {
     "name": "stdout",
     "output_type": "stream",
     "text": [
      "+--------+---+\n",
      "|    Name|Age|\n",
      "+--------+---+\n",
      "|ALEIDALI| 31|\n",
      "|    JUAN| 29|\n",
      "|    JOSE| 10|\n",
      "+--------+---+\n",
      "\n"
     ]
    }
   ],
   "source": [
    "#drops raws with null values, any set as default\n",
    "df_pyspark.na.drop(how=\"any\").show()"
   ]
  },
  {
   "cell_type": "code",
   "execution_count": 46,
   "metadata": {},
   "outputs": [
    {
     "name": "stdout",
     "output_type": "stream",
     "text": [
      "+--------+----+\n",
      "|    Name| Age|\n",
      "+--------+----+\n",
      "|ALEIDALI|  31|\n",
      "|    JUAN|  29|\n",
      "|    JOSE|  10|\n",
      "|  MONICA|NULL|\n",
      "+--------+----+\n",
      "\n"
     ]
    }
   ],
   "source": [
    "# drop raws with all columns = null\n",
    "df_pyspark.na.drop(how=\"all\").show()"
   ]
  },
  {
   "cell_type": "code",
   "execution_count": 50,
   "metadata": {},
   "outputs": [
    {
     "name": "stdout",
     "output_type": "stream",
     "text": [
      "+--------+---+\n",
      "|    Name|Age|\n",
      "+--------+---+\n",
      "|ALEIDALI| 31|\n",
      "|    JUAN| 29|\n",
      "|    JOSE| 10|\n",
      "+--------+---+\n",
      "\n"
     ]
    }
   ],
   "source": [
    "#keep raws with at leat 2 not null values\n",
    "df_pyspark.na.drop(how=\"any\",thresh=2).show()"
   ]
  },
  {
   "cell_type": "code",
   "execution_count": 52,
   "metadata": {},
   "outputs": [
    {
     "name": "stdout",
     "output_type": "stream",
     "text": [
      "+--------+----+\n",
      "|    Name| Age|\n",
      "+--------+----+\n",
      "|ALEIDALI|  31|\n",
      "|    JUAN|  29|\n",
      "|    JOSE|  10|\n",
      "|  MONICA|NULL|\n",
      "+--------+----+\n",
      "\n"
     ]
    }
   ],
   "source": [
    "#drop null values in an specific colums\n",
    "df_pyspark.na.drop(how=\"any\",subset=['Name']).show()"
   ]
  },
  {
   "cell_type": "code",
   "execution_count": 69,
   "metadata": {},
   "outputs": [
    {
     "name": "stdout",
     "output_type": "stream",
     "text": [
      "+--------+----+\n",
      "|    Name| Age|\n",
      "+--------+----+\n",
      "|ALEIDALI|  31|\n",
      "|    JUAN|  29|\n",
      "|    JOSE|  10|\n",
      "|  MONICA|1000|\n",
      "+--------+----+\n",
      "\n"
     ]
    }
   ],
   "source": [
    "#Fill the missing values\n",
    "df_pyspark.na.fill(1000,['Name','Age']).show()"
   ]
  },
  {
   "cell_type": "code",
   "execution_count": 72,
   "metadata": {},
   "outputs": [],
   "source": [
    "# inputation with help of sklearn\n",
    "from pyspark.ml.feature import Imputer\n",
    "\n",
    "imp=Imputer(\n",
    "    inputCols=['Age'],\n",
    "    outputCols=[\"{}_imputed\".format(c) for c in ['Age']],\n",
    "    ).setStrategy(\"mean\")"
   ]
  },
  {
   "cell_type": "code",
   "execution_count": 73,
   "metadata": {},
   "outputs": [
    {
     "name": "stdout",
     "output_type": "stream",
     "text": [
      "+--------+----+-----------+\n",
      "|    Name| Age|Age_imputed|\n",
      "+--------+----+-----------+\n",
      "|ALEIDALI|  31|         31|\n",
      "|    JUAN|  29|         29|\n",
      "|    JOSE|  10|         10|\n",
      "|  MONICA|NULL|         23|\n",
      "+--------+----+-----------+\n",
      "\n"
     ]
    }
   ],
   "source": [
    "# apply to my dataframe\n",
    "imp.fit(df_pyspark).transform(df_pyspark).show()"
   ]
  },
  {
   "cell_type": "markdown",
   "metadata": {},
   "source": [
    "# Filter operations"
   ]
  },
  {
   "cell_type": "code",
   "execution_count": 74,
   "metadata": {},
   "outputs": [
    {
     "name": "stdout",
     "output_type": "stream",
     "text": [
      "+--------+----+\n",
      "|    Name| Age|\n",
      "+--------+----+\n",
      "|ALEIDALI|  31|\n",
      "|    JUAN|  29|\n",
      "|    JOSE|  10|\n",
      "|  MONICA|NULL|\n",
      "+--------+----+\n",
      "\n"
     ]
    }
   ],
   "source": [
    "from pyspark.sql import SparkSession\n",
    "spark=SparkSession.builder.appName('Practice').getOrCreate()\n",
    "df_pyspark= spark.read.csv(\"Book1.csv\",header=True,inferSchema=True)\n",
    "df_pyspark.show()"
   ]
  },
  {
   "cell_type": "code",
   "execution_count": 75,
   "metadata": {},
   "outputs": [
    {
     "name": "stdout",
     "output_type": "stream",
     "text": [
      "+----+---+\n",
      "|Name|Age|\n",
      "+----+---+\n",
      "|JOSE| 10|\n",
      "+----+---+\n",
      "\n"
     ]
    }
   ],
   "source": [
    "df_pyspark.filter('Age<=25').show()"
   ]
  },
  {
   "cell_type": "code",
   "execution_count": 76,
   "metadata": {},
   "outputs": [
    {
     "name": "stdout",
     "output_type": "stream",
     "text": [
      "+----+\n",
      "|Name|\n",
      "+----+\n",
      "|JOSE|\n",
      "+----+\n",
      "\n"
     ]
    }
   ],
   "source": [
    "df_pyspark.filter('Age<=25').select(['Name']).show()"
   ]
  },
  {
   "cell_type": "code",
   "execution_count": 80,
   "metadata": {},
   "outputs": [
    {
     "name": "stdout",
     "output_type": "stream",
     "text": [
      "+----+---+\n",
      "|Name|Age|\n",
      "+----+---+\n",
      "+----+---+\n",
      "\n"
     ]
    }
   ],
   "source": [
    "# many conditions\n",
    "df_pyspark.filter((df_pyspark['Age']<=25) & \n",
    "                  (df_pyspark['Age']>10)).show()"
   ]
  },
  {
   "cell_type": "code",
   "execution_count": 81,
   "metadata": {},
   "outputs": [
    {
     "name": "stdout",
     "output_type": "stream",
     "text": [
      "+--------+---+\n",
      "|    Name|Age|\n",
      "+--------+---+\n",
      "|ALEIDALI| 31|\n",
      "|    JUAN| 29|\n",
      "|    JOSE| 10|\n",
      "+--------+---+\n",
      "\n"
     ]
    }
   ],
   "source": [
    "# many conditions\n",
    "df_pyspark.filter((df_pyspark['Age']<=25) | \n",
    "                  (df_pyspark['Age']>1)).show()"
   ]
  },
  {
   "cell_type": "code",
   "execution_count": 82,
   "metadata": {},
   "outputs": [
    {
     "name": "stdout",
     "output_type": "stream",
     "text": [
      "+--------+---+\n",
      "|    Name|Age|\n",
      "+--------+---+\n",
      "|ALEIDALI| 31|\n",
      "|    JUAN| 29|\n",
      "+--------+---+\n",
      "\n"
     ]
    }
   ],
   "source": [
    "# inverse filer operation\n",
    "# many conditions\n",
    "df_pyspark.filter(~(df_pyspark['Age']<=25)).show()"
   ]
  },
  {
   "cell_type": "markdown",
   "metadata": {},
   "source": [
    "# Group by and Aggregate fucntions"
   ]
  },
  {
   "cell_type": "code",
   "execution_count": 83,
   "metadata": {},
   "outputs": [
    {
     "name": "stdout",
     "output_type": "stream",
     "text": [
      "+--------+----+\n",
      "|    Name| Age|\n",
      "+--------+----+\n",
      "|ALEIDALI|  31|\n",
      "|    JUAN|  29|\n",
      "|    JOSE|  10|\n",
      "|  MONICA|NULL|\n",
      "+--------+----+\n",
      "\n"
     ]
    }
   ],
   "source": [
    "from pyspark.sql import SparkSession\n",
    "spark=SparkSession.builder.appName('Practice').getOrCreate()\n",
    "df_pyspark= spark.read.csv(\"Book1.csv\",header=True,inferSchema=True)\n",
    "df_pyspark.show()"
   ]
  },
  {
   "cell_type": "code",
   "execution_count": 85,
   "metadata": {},
   "outputs": [
    {
     "name": "stdout",
     "output_type": "stream",
     "text": [
      "+--------+--------+\n",
      "|    Name|sum(Age)|\n",
      "+--------+--------+\n",
      "|    JOSE|      10|\n",
      "|    JUAN|      29|\n",
      "|  MONICA|    NULL|\n",
      "|ALEIDALI|      31|\n",
      "+--------+--------+\n",
      "\n"
     ]
    }
   ],
   "source": [
    "#group by\n",
    "df_pyspark.groupBy('Name').sum().show()"
   ]
  },
  {
   "cell_type": "code",
   "execution_count": 89,
   "metadata": {},
   "outputs": [
    {
     "name": "stdout",
     "output_type": "stream",
     "text": [
      "+--------+--------+\n",
      "|    Name|max(Age)|\n",
      "+--------+--------+\n",
      "|    JOSE|      10|\n",
      "|    JUAN|      29|\n",
      "|  MONICA|    NULL|\n",
      "|ALEIDALI|      31|\n",
      "+--------+--------+\n",
      "\n"
     ]
    }
   ],
   "source": [
    "# group to get maximun age per name\n",
    "df_pyspark.groupBy('Name').max('Age').show()"
   ]
  },
  {
   "cell_type": "code",
   "execution_count": 90,
   "metadata": {},
   "outputs": [
    {
     "name": "stdout",
     "output_type": "stream",
     "text": [
      "+--------+-----+\n",
      "|    Name|count|\n",
      "+--------+-----+\n",
      "|    JOSE|    1|\n",
      "|    JUAN|    1|\n",
      "|  MONICA|    1|\n",
      "|ALEIDALI|    1|\n",
      "+--------+-----+\n",
      "\n"
     ]
    }
   ],
   "source": [
    "#count\n",
    "df_pyspark.groupBy('Name').count().show()"
   ]
  },
  {
   "cell_type": "code",
   "execution_count": 92,
   "metadata": {},
   "outputs": [
    {
     "name": "stdout",
     "output_type": "stream",
     "text": [
      "+--------+\n",
      "|min(Age)|\n",
      "+--------+\n",
      "|      10|\n",
      "+--------+\n",
      "\n"
     ]
    }
   ],
   "source": [
    "# only aggregate\n",
    "df_pyspark.agg({'Age':'min'}).show()"
   ]
  },
  {
   "cell_type": "code",
   "execution_count": null,
   "metadata": {},
   "outputs": [],
   "source": []
  }
 ],
 "metadata": {
  "kernelspec": {
   "display_name": "Python 3",
   "language": "python",
   "name": "python3"
  },
  "language_info": {
   "codemirror_mode": {
    "name": "ipython",
    "version": 3
   },
   "file_extension": ".py",
   "mimetype": "text/x-python",
   "name": "python",
   "nbconvert_exporter": "python",
   "pygments_lexer": "ipython3",
   "version": "3.11.4"
  }
 },
 "nbformat": 4,
 "nbformat_minor": 2
}
